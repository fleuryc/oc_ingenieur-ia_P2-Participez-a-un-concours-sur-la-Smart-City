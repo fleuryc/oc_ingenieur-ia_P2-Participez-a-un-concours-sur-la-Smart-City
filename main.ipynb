{
 "cells": [
  {
   "cell_type": "markdown",
   "metadata": {},
   "source": [
    "# Exloration des données concernant les arbres remarquables de Paris\n",
    "\n"
   ]
  },
  {
   "cell_type": "code",
   "execution_count": 1,
   "metadata": {},
   "outputs": [
    {
     "data": {
      "text/html": [
       "<div>\n",
       "<style scoped>\n",
       "    .dataframe tbody tr th:only-of-type {\n",
       "        vertical-align: middle;\n",
       "    }\n",
       "\n",
       "    .dataframe tbody tr th {\n",
       "        vertical-align: top;\n",
       "    }\n",
       "\n",
       "    .dataframe thead th {\n",
       "        text-align: right;\n",
       "    }\n",
       "</style>\n",
       "<table border=\"1\" class=\"dataframe\">\n",
       "  <thead>\n",
       "    <tr style=\"text-align: right;\">\n",
       "      <th></th>\n",
       "      <th>id;type_emplacement;domanialite;arrondissement;complement_addresse;numero;lieu;id_emplacement;libelle_francais;genre;espece;variete;circonference_cm;hauteur_m;stade_developpement;remarquable;geo_point_2d_a;geo_point_2d_b</th>\n",
       "    </tr>\n",
       "  </thead>\n",
       "  <tbody>\n",
       "    <tr>\n",
       "      <th>0</th>\n",
       "      <td>99874;Arbre;Jardin;PARIS 7E ARRDT;;;MAIRIE DU ...</td>\n",
       "    </tr>\n",
       "    <tr>\n",
       "      <th>1</th>\n",
       "      <td>99875;Arbre;Jardin;PARIS 7E ARRDT;;;MAIRIE DU ...</td>\n",
       "    </tr>\n",
       "    <tr>\n",
       "      <th>2</th>\n",
       "      <td>99876;Arbre;Jardin;PARIS 7E ARRDT;;;MAIRIE DU ...</td>\n",
       "    </tr>\n",
       "    <tr>\n",
       "      <th>3</th>\n",
       "      <td>99877;Arbre;Jardin;PARIS 7E ARRDT;;;MAIRIE DU ...</td>\n",
       "    </tr>\n",
       "    <tr>\n",
       "      <th>4</th>\n",
       "      <td>99878;Arbre;Jardin;PARIS 17E ARRDT;;;PARC CLIC...</td>\n",
       "    </tr>\n",
       "  </tbody>\n",
       "</table>\n",
       "</div>"
      ],
      "text/plain": [
       "  id;type_emplacement;domanialite;arrondissement;complement_addresse;numero;lieu;id_emplacement;libelle_francais;genre;espece;variete;circonference_cm;hauteur_m;stade_developpement;remarquable;geo_point_2d_a;geo_point_2d_b\n",
       "0  99874;Arbre;Jardin;PARIS 7E ARRDT;;;MAIRIE DU ...                                                                                                                                                                          \n",
       "1  99875;Arbre;Jardin;PARIS 7E ARRDT;;;MAIRIE DU ...                                                                                                                                                                          \n",
       "2  99876;Arbre;Jardin;PARIS 7E ARRDT;;;MAIRIE DU ...                                                                                                                                                                          \n",
       "3  99877;Arbre;Jardin;PARIS 7E ARRDT;;;MAIRIE DU ...                                                                                                                                                                          \n",
       "4  99878;Arbre;Jardin;PARIS 17E ARRDT;;;PARC CLIC...                                                                                                                                                                          "
      ]
     },
     "execution_count": 1,
     "metadata": {},
     "output_type": "execute_result"
    }
   ],
   "source": [
    "import pandas as pd\n",
    "\n",
    "data = pd.read_csv(\"data/p2-arbres-fr.csv\")\n",
    "data.head()"
   ]
  }
 ],
 "metadata": {
  "kernelspec": {
   "display_name": "Python 3.9.5 64-bit ('env')",
   "language": "python",
   "name": "python395jvsc74a57bd0c90de28d937fea21fa0e8c0b21949a1a37ba0cff78a53465482821b458660fc2"
  },
  "language_info": {
   "codemirror_mode": {
    "name": "ipython",
    "version": 3
   },
   "file_extension": ".py",
   "mimetype": "text/x-python",
   "name": "python",
   "nbconvert_exporter": "python",
   "pygments_lexer": "ipython3",
   "version": "3.9.5"
  },
  "metadata": {
   "interpreter": {
    "hash": "c90de28d937fea21fa0e8c0b21949a1a37ba0cff78a53465482821b458660fc2"
   }
  }
 },
 "nbformat": 4,
 "nbformat_minor": 2
}
