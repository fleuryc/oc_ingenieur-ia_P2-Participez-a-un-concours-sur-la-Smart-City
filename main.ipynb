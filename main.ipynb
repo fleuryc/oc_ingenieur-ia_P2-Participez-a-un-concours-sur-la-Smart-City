{
 "cells": [
  {
   "source": [
    "# Exloration des données concernant les arbres remarquables de Paris\n",
    "\n"
   ],
   "cell_type": "markdown",
   "metadata": {}
  },
  {
   "cell_type": "code",
   "execution_count": 1,
   "metadata": {},
   "outputs": [
    {
     "output_type": "execute_result",
     "data": {
      "text/plain": [
       "      id type_emplacement domanialite   arrondissement complement_addresse  \\\n",
       "0  99874            Arbre      Jardin   PARIS 7E ARRDT                 NaN   \n",
       "1  99875            Arbre      Jardin   PARIS 7E ARRDT                 NaN   \n",
       "2  99876            Arbre      Jardin   PARIS 7E ARRDT                 NaN   \n",
       "3  99877            Arbre      Jardin   PARIS 7E ARRDT                 NaN   \n",
       "4  99878            Arbre      Jardin  PARIS 17E ARRDT                 NaN   \n",
       "\n",
       "   numero                                        lieu id_emplacement  \\\n",
       "0     NaN   MAIRIE DU 7E 116 RUE DE GRENELLE PARIS 7E             19   \n",
       "1     NaN   MAIRIE DU 7E 116 RUE DE GRENELLE PARIS 7E             20   \n",
       "2     NaN   MAIRIE DU 7E 116 RUE DE GRENELLE PARIS 7E             21   \n",
       "3     NaN   MAIRIE DU 7E 116 RUE DE GRENELLE PARIS 7E             22   \n",
       "4     NaN  PARC CLICHY-BATIGNOLLES-MARTIN LUTHER KING       000G0037   \n",
       "\n",
       "  libelle_francais      genre         espece variete  circonference_cm  \\\n",
       "0       Marronnier   Aesculus  hippocastanum     NaN                20   \n",
       "1               If      Taxus        baccata     NaN                65   \n",
       "2               If      Taxus        baccata     NaN                90   \n",
       "3           Erable       Acer        negundo     NaN                60   \n",
       "4     Arbre à miel  Tetradium      daniellii     NaN                38   \n",
       "\n",
       "   hauteur_m stade_developpement  remarquable  geo_point_2d_a  geo_point_2d_b  \n",
       "0          5                 NaN          0.0       48.857620        2.320962  \n",
       "1          8                   A          NaN       48.857656        2.321031  \n",
       "2         10                   A          NaN       48.857705        2.321061  \n",
       "3          8                   A          NaN       48.857722        2.321006  \n",
       "4          0                 NaN          NaN       48.890435        2.315289  "
      ],
      "text/html": "<div>\n<style scoped>\n    .dataframe tbody tr th:only-of-type {\n        vertical-align: middle;\n    }\n\n    .dataframe tbody tr th {\n        vertical-align: top;\n    }\n\n    .dataframe thead th {\n        text-align: right;\n    }\n</style>\n<table border=\"1\" class=\"dataframe\">\n  <thead>\n    <tr style=\"text-align: right;\">\n      <th></th>\n      <th>id</th>\n      <th>type_emplacement</th>\n      <th>domanialite</th>\n      <th>arrondissement</th>\n      <th>complement_addresse</th>\n      <th>numero</th>\n      <th>lieu</th>\n      <th>id_emplacement</th>\n      <th>libelle_francais</th>\n      <th>genre</th>\n      <th>espece</th>\n      <th>variete</th>\n      <th>circonference_cm</th>\n      <th>hauteur_m</th>\n      <th>stade_developpement</th>\n      <th>remarquable</th>\n      <th>geo_point_2d_a</th>\n      <th>geo_point_2d_b</th>\n    </tr>\n  </thead>\n  <tbody>\n    <tr>\n      <th>0</th>\n      <td>99874</td>\n      <td>Arbre</td>\n      <td>Jardin</td>\n      <td>PARIS 7E ARRDT</td>\n      <td>NaN</td>\n      <td>NaN</td>\n      <td>MAIRIE DU 7E 116 RUE DE GRENELLE PARIS 7E</td>\n      <td>19</td>\n      <td>Marronnier</td>\n      <td>Aesculus</td>\n      <td>hippocastanum</td>\n      <td>NaN</td>\n      <td>20</td>\n      <td>5</td>\n      <td>NaN</td>\n      <td>0.0</td>\n      <td>48.857620</td>\n      <td>2.320962</td>\n    </tr>\n    <tr>\n      <th>1</th>\n      <td>99875</td>\n      <td>Arbre</td>\n      <td>Jardin</td>\n      <td>PARIS 7E ARRDT</td>\n      <td>NaN</td>\n      <td>NaN</td>\n      <td>MAIRIE DU 7E 116 RUE DE GRENELLE PARIS 7E</td>\n      <td>20</td>\n      <td>If</td>\n      <td>Taxus</td>\n      <td>baccata</td>\n      <td>NaN</td>\n      <td>65</td>\n      <td>8</td>\n      <td>A</td>\n      <td>NaN</td>\n      <td>48.857656</td>\n      <td>2.321031</td>\n    </tr>\n    <tr>\n      <th>2</th>\n      <td>99876</td>\n      <td>Arbre</td>\n      <td>Jardin</td>\n      <td>PARIS 7E ARRDT</td>\n      <td>NaN</td>\n      <td>NaN</td>\n      <td>MAIRIE DU 7E 116 RUE DE GRENELLE PARIS 7E</td>\n      <td>21</td>\n      <td>If</td>\n      <td>Taxus</td>\n      <td>baccata</td>\n      <td>NaN</td>\n      <td>90</td>\n      <td>10</td>\n      <td>A</td>\n      <td>NaN</td>\n      <td>48.857705</td>\n      <td>2.321061</td>\n    </tr>\n    <tr>\n      <th>3</th>\n      <td>99877</td>\n      <td>Arbre</td>\n      <td>Jardin</td>\n      <td>PARIS 7E ARRDT</td>\n      <td>NaN</td>\n      <td>NaN</td>\n      <td>MAIRIE DU 7E 116 RUE DE GRENELLE PARIS 7E</td>\n      <td>22</td>\n      <td>Erable</td>\n      <td>Acer</td>\n      <td>negundo</td>\n      <td>NaN</td>\n      <td>60</td>\n      <td>8</td>\n      <td>A</td>\n      <td>NaN</td>\n      <td>48.857722</td>\n      <td>2.321006</td>\n    </tr>\n    <tr>\n      <th>4</th>\n      <td>99878</td>\n      <td>Arbre</td>\n      <td>Jardin</td>\n      <td>PARIS 17E ARRDT</td>\n      <td>NaN</td>\n      <td>NaN</td>\n      <td>PARC CLICHY-BATIGNOLLES-MARTIN LUTHER KING</td>\n      <td>000G0037</td>\n      <td>Arbre à miel</td>\n      <td>Tetradium</td>\n      <td>daniellii</td>\n      <td>NaN</td>\n      <td>38</td>\n      <td>0</td>\n      <td>NaN</td>\n      <td>NaN</td>\n      <td>48.890435</td>\n      <td>2.315289</td>\n    </tr>\n  </tbody>\n</table>\n</div>"
     },
     "metadata": {},
     "execution_count": 1
    }
   ],
   "source": [
    "%matplotlib inline\n",
    "import matplotlib.pyplot as plt\n",
    "import numpy as np\n",
    "import seaborn as sns\n",
    "import pandas as pd\n",
    "plt.style.use('seaborn-whitegrid')\n",
    "sns.set()\n",
    "\n",
    "data = pd.read_csv(\"data/p2-arbres-fr.csv\", sep=';')\n",
    "data.head()"
   ]
  },
  {
   "cell_type": "code",
   "execution_count": 4,
   "metadata": {},
   "outputs": [
    {
     "output_type": "error",
     "ename": "ValueError",
     "evalue": "No variables found for grid columns.",
     "traceback": [
      "\u001b[0;31m---------------------------------------------------------------------------\u001b[0m",
      "\u001b[0;31mValueError\u001b[0m                                Traceback (most recent call last)",
      "\u001b[0;32m<ipython-input-4-8271698d7947>\u001b[0m in \u001b[0;36m<module>\u001b[0;34m\u001b[0m\n\u001b[0;32m----> 1\u001b[0;31m \u001b[0msns\u001b[0m\u001b[0;34m.\u001b[0m\u001b[0mpairplot\u001b[0m\u001b[0;34m(\u001b[0m\u001b[0mdata\u001b[0m\u001b[0;34m)\u001b[0m\u001b[0;34m;\u001b[0m\u001b[0;34m\u001b[0m\u001b[0;34m\u001b[0m\u001b[0m\n\u001b[0m",
      "\u001b[0;32m~/Workspace/oc_ingenieur-ia_P2-Participez-a-un-concours-sur-la-Smart-City/env/lib/python3.9/site-packages/seaborn/_decorators.py\u001b[0m in \u001b[0;36minner_f\u001b[0;34m(*args, **kwargs)\u001b[0m\n\u001b[1;32m     44\u001b[0m             )\n\u001b[1;32m     45\u001b[0m         \u001b[0mkwargs\u001b[0m\u001b[0;34m.\u001b[0m\u001b[0mupdate\u001b[0m\u001b[0;34m(\u001b[0m\u001b[0;34m{\u001b[0m\u001b[0mk\u001b[0m\u001b[0;34m:\u001b[0m \u001b[0marg\u001b[0m \u001b[0;32mfor\u001b[0m \u001b[0mk\u001b[0m\u001b[0;34m,\u001b[0m \u001b[0marg\u001b[0m \u001b[0;32min\u001b[0m \u001b[0mzip\u001b[0m\u001b[0;34m(\u001b[0m\u001b[0msig\u001b[0m\u001b[0;34m.\u001b[0m\u001b[0mparameters\u001b[0m\u001b[0;34m,\u001b[0m \u001b[0margs\u001b[0m\u001b[0;34m)\u001b[0m\u001b[0;34m}\u001b[0m\u001b[0;34m)\u001b[0m\u001b[0;34m\u001b[0m\u001b[0;34m\u001b[0m\u001b[0m\n\u001b[0;32m---> 46\u001b[0;31m         \u001b[0;32mreturn\u001b[0m \u001b[0mf\u001b[0m\u001b[0;34m(\u001b[0m\u001b[0;34m**\u001b[0m\u001b[0mkwargs\u001b[0m\u001b[0;34m)\u001b[0m\u001b[0;34m\u001b[0m\u001b[0;34m\u001b[0m\u001b[0m\n\u001b[0m\u001b[1;32m     47\u001b[0m     \u001b[0;32mreturn\u001b[0m \u001b[0minner_f\u001b[0m\u001b[0;34m\u001b[0m\u001b[0;34m\u001b[0m\u001b[0m\n\u001b[1;32m     48\u001b[0m \u001b[0;34m\u001b[0m\u001b[0m\n",
      "\u001b[0;32m~/Workspace/oc_ingenieur-ia_P2-Participez-a-un-concours-sur-la-Smart-City/env/lib/python3.9/site-packages/seaborn/axisgrid.py\u001b[0m in \u001b[0;36mpairplot\u001b[0;34m(data, hue, hue_order, palette, vars, x_vars, y_vars, kind, diag_kind, markers, height, aspect, corner, dropna, plot_kws, diag_kws, grid_kws, size)\u001b[0m\n\u001b[1;32m   1987\u001b[0m     \u001b[0;31m# Set up the PairGrid\u001b[0m\u001b[0;34m\u001b[0m\u001b[0;34m\u001b[0m\u001b[0;34m\u001b[0m\u001b[0m\n\u001b[1;32m   1988\u001b[0m     \u001b[0mgrid_kws\u001b[0m\u001b[0;34m.\u001b[0m\u001b[0msetdefault\u001b[0m\u001b[0;34m(\u001b[0m\u001b[0;34m\"diag_sharey\"\u001b[0m\u001b[0;34m,\u001b[0m \u001b[0mdiag_kind\u001b[0m \u001b[0;34m==\u001b[0m \u001b[0;34m\"hist\"\u001b[0m\u001b[0;34m)\u001b[0m\u001b[0;34m\u001b[0m\u001b[0;34m\u001b[0m\u001b[0m\n\u001b[0;32m-> 1989\u001b[0;31m     grid = PairGrid(data, vars=vars, x_vars=x_vars, y_vars=y_vars, hue=hue,\n\u001b[0m\u001b[1;32m   1990\u001b[0m                     \u001b[0mhue_order\u001b[0m\u001b[0;34m=\u001b[0m\u001b[0mhue_order\u001b[0m\u001b[0;34m,\u001b[0m \u001b[0mpalette\u001b[0m\u001b[0;34m=\u001b[0m\u001b[0mpalette\u001b[0m\u001b[0;34m,\u001b[0m \u001b[0mcorner\u001b[0m\u001b[0;34m=\u001b[0m\u001b[0mcorner\u001b[0m\u001b[0;34m,\u001b[0m\u001b[0;34m\u001b[0m\u001b[0;34m\u001b[0m\u001b[0m\n\u001b[1;32m   1991\u001b[0m                     height=height, aspect=aspect, dropna=dropna, **grid_kws)\n",
      "\u001b[0;32m~/Workspace/oc_ingenieur-ia_P2-Participez-a-un-concours-sur-la-Smart-City/env/lib/python3.9/site-packages/seaborn/_decorators.py\u001b[0m in \u001b[0;36minner_f\u001b[0;34m(*args, **kwargs)\u001b[0m\n\u001b[1;32m     44\u001b[0m             )\n\u001b[1;32m     45\u001b[0m         \u001b[0mkwargs\u001b[0m\u001b[0;34m.\u001b[0m\u001b[0mupdate\u001b[0m\u001b[0;34m(\u001b[0m\u001b[0;34m{\u001b[0m\u001b[0mk\u001b[0m\u001b[0;34m:\u001b[0m \u001b[0marg\u001b[0m \u001b[0;32mfor\u001b[0m \u001b[0mk\u001b[0m\u001b[0;34m,\u001b[0m \u001b[0marg\u001b[0m \u001b[0;32min\u001b[0m \u001b[0mzip\u001b[0m\u001b[0;34m(\u001b[0m\u001b[0msig\u001b[0m\u001b[0;34m.\u001b[0m\u001b[0mparameters\u001b[0m\u001b[0;34m,\u001b[0m \u001b[0margs\u001b[0m\u001b[0;34m)\u001b[0m\u001b[0;34m}\u001b[0m\u001b[0;34m)\u001b[0m\u001b[0;34m\u001b[0m\u001b[0;34m\u001b[0m\u001b[0m\n\u001b[0;32m---> 46\u001b[0;31m         \u001b[0;32mreturn\u001b[0m \u001b[0mf\u001b[0m\u001b[0;34m(\u001b[0m\u001b[0;34m**\u001b[0m\u001b[0mkwargs\u001b[0m\u001b[0;34m)\u001b[0m\u001b[0;34m\u001b[0m\u001b[0;34m\u001b[0m\u001b[0m\n\u001b[0m\u001b[1;32m     47\u001b[0m     \u001b[0;32mreturn\u001b[0m \u001b[0minner_f\u001b[0m\u001b[0;34m\u001b[0m\u001b[0;34m\u001b[0m\u001b[0m\n\u001b[1;32m     48\u001b[0m \u001b[0;34m\u001b[0m\u001b[0m\n",
      "\u001b[0;32m~/Workspace/oc_ingenieur-ia_P2-Participez-a-un-concours-sur-la-Smart-City/env/lib/python3.9/site-packages/seaborn/axisgrid.py\u001b[0m in \u001b[0;36m__init__\u001b[0;34m(self, data, hue, hue_order, palette, hue_kws, vars, x_vars, y_vars, corner, diag_sharey, height, aspect, layout_pad, despine, dropna, size)\u001b[0m\n\u001b[1;32m   1174\u001b[0m \u001b[0;34m\u001b[0m\u001b[0m\n\u001b[1;32m   1175\u001b[0m         \u001b[0;32mif\u001b[0m \u001b[0;32mnot\u001b[0m \u001b[0mx_vars\u001b[0m\u001b[0;34m:\u001b[0m\u001b[0;34m\u001b[0m\u001b[0;34m\u001b[0m\u001b[0m\n\u001b[0;32m-> 1176\u001b[0;31m             \u001b[0;32mraise\u001b[0m \u001b[0mValueError\u001b[0m\u001b[0;34m(\u001b[0m\u001b[0;34m\"No variables found for grid columns.\"\u001b[0m\u001b[0;34m)\u001b[0m\u001b[0;34m\u001b[0m\u001b[0;34m\u001b[0m\u001b[0m\n\u001b[0m\u001b[1;32m   1177\u001b[0m         \u001b[0;32mif\u001b[0m \u001b[0;32mnot\u001b[0m \u001b[0my_vars\u001b[0m\u001b[0;34m:\u001b[0m\u001b[0;34m\u001b[0m\u001b[0;34m\u001b[0m\u001b[0m\n\u001b[1;32m   1178\u001b[0m             \u001b[0;32mraise\u001b[0m \u001b[0mValueError\u001b[0m\u001b[0;34m(\u001b[0m\u001b[0;34m\"No variables found for grid rows.\"\u001b[0m\u001b[0;34m)\u001b[0m\u001b[0;34m\u001b[0m\u001b[0;34m\u001b[0m\u001b[0m\n",
      "\u001b[0;31mValueError\u001b[0m: No variables found for grid columns."
     ]
    }
   ],
   "source": [
    "sns.pairplot(data);"
   ]
  },
  {
   "cell_type": "code",
   "execution_count": null,
   "metadata": {},
   "outputs": [],
   "source": []
  }
 ],
 "metadata": {
  "kernelspec": {
   "name": "python395jvsc74a57bd0c90de28d937fea21fa0e8c0b21949a1a37ba0cff78a53465482821b458660fc2",
   "display_name": "Python 3.9.5 64-bit ('env')"
  },
  "language_info": {
   "codemirror_mode": {
    "name": "ipython",
    "version": 3
   },
   "file_extension": ".py",
   "mimetype": "text/x-python",
   "name": "python",
   "nbconvert_exporter": "python",
   "pygments_lexer": "ipython3",
   "version": "3.9.5"
  },
  "metadata": {
   "interpreter": {
    "hash": "c90de28d937fea21fa0e8c0b21949a1a37ba0cff78a53465482821b458660fc2"
   }
  }
 },
 "nbformat": 4,
 "nbformat_minor": 2
}